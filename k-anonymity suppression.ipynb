{
 "cells": [
  {
   "cell_type": "code",
   "execution_count": 22,
   "metadata": {},
   "outputs": [],
   "source": [
    "import numpy as np\n",
    "import pandas as pd\n",
    "import itertools as it\n",
    "\n",
    "filename        = \"Dataset_Covid_CE.csv\"\n",
    "k_values        = [2, 4, 8, 16]\n",
    "\n",
    "def get_filename_out(k):\n",
    "    return f\"Dataset_Covid_CE_Anon_Sup_k{k}.csv\"\n",
    "\n",
    "def generate_csv(df, k):\n",
    "    return df.to_csv(get_filename_out(k))\n",
    "\n",
    "def is_k_anon(table, qt, k = 2):\n",
    "    \"\"\"\n",
    "    para a tabela ser considerada k-anonima, todo elemento da tabela deve possuir pelo menos k outros elementos com a mesma combinaçao de semi-identificadores. ou seja, para k = 2 e qt = {Atr1, Atr2}, todo registro da tabela deve aparecer pelo menos 2 vezes com mesmo valor nos atributos \"Atr1\" e \"Atr2\".\n",
    "\n",
    "    essa função agrupa os elementos da tabela pelos atributos semi-identificadores em qt e retorna False se algum grupo ocorre menos que k vezes, True se todo grupo ocorre ao menos k vezes.\n",
    "    \"\"\"\n",
    "\n",
    "    groups = table.groupby(by=qt).size()\n",
    "    for n_of_groups in groups:\n",
    "        if n_of_groups < k: \n",
    "            return False\n",
    "    return True"
   ]
  },
  {
   "cell_type": "code",
   "execution_count": 23,
   "id": "25a189d5",
   "metadata": {},
   "outputs": [
    {
     "output_type": "stream",
     "name": "stdout",
     "text": [
      "Wall time: 11.7 s\n"
     ]
    },
    {
     "output_type": "execute_result",
     "data": {
      "text/plain": [
       "             municipioCaso   sexoCaso       dataNascimento  \\\n",
       "19                  SOBRAL  MASCULINO  2003-08-14 00:00:00   \n",
       "20                 PACAJUS  MASCULINO  1983-11-07 00:00:00   \n",
       "21               HORIZONTE   FEMININO  1982-01-14 00:00:00   \n",
       "25               FORTALEZA  MASCULINO  1992-03-12 00:00:00   \n",
       "28                 CAUCAIA  MASCULINO  1970-03-06 00:00:00   \n",
       "...                    ...        ...                  ...   \n",
       "1266272          FORTALEZA   FEMININO  1982-12-08 00:00:00   \n",
       "1266273          FORTALEZA   FEMININO  1980-12-02 00:00:00   \n",
       "1266274          FORTALEZA   FEMININO  1988-05-17 00:00:00   \n",
       "1266275            CRATEUS   FEMININO  1970-09-28 00:00:00   \n",
       "1266276  JUAZEIRO DO NORTE   FEMININO  1998-12-14 00:00:00   \n",
       "\n",
       "        resultadoFinalExame comorbidadeCardiovascularSivep  \\\n",
       "19                 Negativo                              *   \n",
       "20                 Negativo                              *   \n",
       "21                 Negativo                              *   \n",
       "25                 Negativo                              *   \n",
       "28                 Negativo                              *   \n",
       "...                     ...                            ...   \n",
       "1266272            Positivo                              *   \n",
       "1266273            Negativo                              *   \n",
       "1266274            Provável                              *   \n",
       "1266275            Negativo                              *   \n",
       "1266276            Positivo                              *   \n",
       "\n",
       "        comorbidadeDiabetesSivep         racaCor  \n",
       "19                             *           Parda  \n",
       "20                             *           Parda  \n",
       "21                             *               *  \n",
       "25                             *           Parda  \n",
       "28                             *  Sem Informacao  \n",
       "...                          ...             ...  \n",
       "1266272                        *          Branca  \n",
       "1266273                        *           Parda  \n",
       "1266274                        *          Branca  \n",
       "1266275                        *           Parda  \n",
       "1266276                        *               *  \n",
       "\n",
       "[911921 rows x 7 columns]"
      ],
      "text/html": "<div>\n<style scoped>\n    .dataframe tbody tr th:only-of-type {\n        vertical-align: middle;\n    }\n\n    .dataframe tbody tr th {\n        vertical-align: top;\n    }\n\n    .dataframe thead th {\n        text-align: right;\n    }\n</style>\n<table border=\"1\" class=\"dataframe\">\n  <thead>\n    <tr style=\"text-align: right;\">\n      <th></th>\n      <th>municipioCaso</th>\n      <th>sexoCaso</th>\n      <th>dataNascimento</th>\n      <th>resultadoFinalExame</th>\n      <th>comorbidadeCardiovascularSivep</th>\n      <th>comorbidadeDiabetesSivep</th>\n      <th>racaCor</th>\n    </tr>\n  </thead>\n  <tbody>\n    <tr>\n      <th>19</th>\n      <td>SOBRAL</td>\n      <td>MASCULINO</td>\n      <td>2003-08-14 00:00:00</td>\n      <td>Negativo</td>\n      <td>*</td>\n      <td>*</td>\n      <td>Parda</td>\n    </tr>\n    <tr>\n      <th>20</th>\n      <td>PACAJUS</td>\n      <td>MASCULINO</td>\n      <td>1983-11-07 00:00:00</td>\n      <td>Negativo</td>\n      <td>*</td>\n      <td>*</td>\n      <td>Parda</td>\n    </tr>\n    <tr>\n      <th>21</th>\n      <td>HORIZONTE</td>\n      <td>FEMININO</td>\n      <td>1982-01-14 00:00:00</td>\n      <td>Negativo</td>\n      <td>*</td>\n      <td>*</td>\n      <td>*</td>\n    </tr>\n    <tr>\n      <th>25</th>\n      <td>FORTALEZA</td>\n      <td>MASCULINO</td>\n      <td>1992-03-12 00:00:00</td>\n      <td>Negativo</td>\n      <td>*</td>\n      <td>*</td>\n      <td>Parda</td>\n    </tr>\n    <tr>\n      <th>28</th>\n      <td>CAUCAIA</td>\n      <td>MASCULINO</td>\n      <td>1970-03-06 00:00:00</td>\n      <td>Negativo</td>\n      <td>*</td>\n      <td>*</td>\n      <td>Sem Informacao</td>\n    </tr>\n    <tr>\n      <th>...</th>\n      <td>...</td>\n      <td>...</td>\n      <td>...</td>\n      <td>...</td>\n      <td>...</td>\n      <td>...</td>\n      <td>...</td>\n    </tr>\n    <tr>\n      <th>1266272</th>\n      <td>FORTALEZA</td>\n      <td>FEMININO</td>\n      <td>1982-12-08 00:00:00</td>\n      <td>Positivo</td>\n      <td>*</td>\n      <td>*</td>\n      <td>Branca</td>\n    </tr>\n    <tr>\n      <th>1266273</th>\n      <td>FORTALEZA</td>\n      <td>FEMININO</td>\n      <td>1980-12-02 00:00:00</td>\n      <td>Negativo</td>\n      <td>*</td>\n      <td>*</td>\n      <td>Parda</td>\n    </tr>\n    <tr>\n      <th>1266274</th>\n      <td>FORTALEZA</td>\n      <td>FEMININO</td>\n      <td>1988-05-17 00:00:00</td>\n      <td>Provável</td>\n      <td>*</td>\n      <td>*</td>\n      <td>Branca</td>\n    </tr>\n    <tr>\n      <th>1266275</th>\n      <td>CRATEUS</td>\n      <td>FEMININO</td>\n      <td>1970-09-28 00:00:00</td>\n      <td>Negativo</td>\n      <td>*</td>\n      <td>*</td>\n      <td>Parda</td>\n    </tr>\n    <tr>\n      <th>1266276</th>\n      <td>JUAZEIRO DO NORTE</td>\n      <td>FEMININO</td>\n      <td>1998-12-14 00:00:00</td>\n      <td>Positivo</td>\n      <td>*</td>\n      <td>*</td>\n      <td>*</td>\n    </tr>\n  </tbody>\n</table>\n<p>911921 rows × 7 columns</p>\n</div>"
     },
     "metadata": {},
     "execution_count": 23
    }
   ],
   "source": [
    "%%time\n",
    "# limpeza\n",
    "\n",
    "semi_id = [\n",
    "    \"municipioCaso\",\n",
    "    \"sexoCaso\",\n",
    "    \"dataNascimento\",\n",
    "    \"resultadoFinalExame\",\n",
    "    \"racaCor\",\n",
    "]\n",
    "\n",
    "sensitive = [\n",
    "    \"comorbidadeCardiovascularSivep\",\n",
    "    \"comorbidadeDiabetesSivep\",\n",
    "]\n",
    "\n",
    "dtype = {\n",
    "    \"municipioCaso\"                  : \"str\",\n",
    "    \"sexoCaso\"                       : \"str\",\n",
    "    \"dataNascimento\"                 : \"str\",\n",
    "    \"resultadoFinalExame\"            : \"str\",\n",
    "    \"comorbidadeCardiovascularSivep\" : \"str\",\n",
    "    \"comorbidadeDiabetesSivep\"       : \"str\",\n",
    "    \"racaCor\"                        : \"str\",\n",
    "}\n",
    "\n",
    "date_columns = [\n",
    "    \"dataNascimento\",\n",
    "]\n",
    "\n",
    "date_parser = lambda x: pd.to_datetime(x, format=\"%Y-%m-%d\", errors = 'coerce')\n",
    "\n",
    "# pegar apenas os atributos desejados\n",
    "# df = pd.read_csv(filename, nrows=100000, usecols=semi_id + sensitive, dtype=dtype, parse_dates=date_columns, date_parser=date_parser)\n",
    "df = pd.read_csv(filename, usecols=semi_id + sensitive, dtype=dtype, parse_dates=date_columns, date_parser=date_parser)\n",
    "df = df.dropna(how=\"all\") # remover registros com todos os valores nulo\n",
    "df = df.fillna(\"*\") # padroniza valores nulos\n",
    "df"
   ]
  },
  {
   "cell_type": "code",
   "execution_count": 24,
   "metadata": {},
   "outputs": [
    {
     "output_type": "execute_result",
     "data": {
      "text/plain": [
       "False"
      ]
     },
     "metadata": {},
     "execution_count": 24
    }
   ],
   "source": [
    "is_k_anon(df, semi_id, k=2)"
   ]
  },
  {
   "cell_type": "code",
   "execution_count": 25,
   "metadata": {
    "tags": []
   },
   "outputs": [
    {
     "output_type": "stream",
     "name": "stdout",
     "text": [
      "Wall time: 0 ns\n"
     ]
    }
   ],
   "source": [
    "%%time\n",
    "\n",
    "# 1. suprimir valores de cada semi-identificador que ocorrem < k vezes (pois não seria possível formar >= k grupos com eles)\n",
    "def supress_unique_k_values(table, qt, k = 2):\n",
    "    for col in qt:\n",
    "        to_replace = []\n",
    "        value_count = dict(table[col].value_counts(dropna=False))\n",
    "        for value in value_count:\n",
    "            if (value_count[value] < k):\n",
    "                to_replace.append(value)\n",
    "        table[col] = table[col].replace(to_replace, \"*\")\n",
    "    return table\n",
    "\n",
    "# df1 = supress_unique_k_values(df, semi_id, k=2)\n",
    "# df1"
   ]
  },
  {
   "cell_type": "code",
   "execution_count": 26,
   "metadata": {},
   "outputs": [
    {
     "output_type": "stream",
     "name": "stdout",
     "text": [
      "Wall time: 5.07 s\n"
     ]
    },
    {
     "output_type": "execute_result",
     "data": {
      "text/plain": [
       "             municipioCaso   sexoCaso       dataNascimento  \\\n",
       "19                  SOBRAL  MASCULINO                    *   \n",
       "20                 PACAJUS  MASCULINO  1983-11-07 00:00:00   \n",
       "21               HORIZONTE   FEMININO                    *   \n",
       "25               FORTALEZA  MASCULINO  1992-03-12 00:00:00   \n",
       "28                 CAUCAIA  MASCULINO                    *   \n",
       "...                    ...        ...                  ...   \n",
       "1266272          FORTALEZA   FEMININO                    *   \n",
       "1266273          FORTALEZA   FEMININO  1980-12-02 00:00:00   \n",
       "1266274          FORTALEZA   FEMININO                    *   \n",
       "1266275            CRATEUS   FEMININO  1970-09-28 00:00:00   \n",
       "1266276  JUAZEIRO DO NORTE   FEMININO                    *   \n",
       "\n",
       "        resultadoFinalExame comorbidadeCardiovascularSivep  \\\n",
       "19                 Negativo                              *   \n",
       "20                 Negativo                              *   \n",
       "21                 Negativo                              *   \n",
       "25                 Negativo                              *   \n",
       "28                 Negativo                              *   \n",
       "...                     ...                            ...   \n",
       "1266272            Positivo                              *   \n",
       "1266273            Negativo                              *   \n",
       "1266274            Provável                              *   \n",
       "1266275            Negativo                              *   \n",
       "1266276            Positivo                              *   \n",
       "\n",
       "        comorbidadeDiabetesSivep         racaCor  \n",
       "19                             *           Parda  \n",
       "20                             *           Parda  \n",
       "21                             *               *  \n",
       "25                             *           Parda  \n",
       "28                             *  Sem Informacao  \n",
       "...                          ...             ...  \n",
       "1266272                        *          Branca  \n",
       "1266273                        *           Parda  \n",
       "1266274                        *          Branca  \n",
       "1266275                        *           Parda  \n",
       "1266276                        *               *  \n",
       "\n",
       "[911921 rows x 7 columns]"
      ],
      "text/html": "<div>\n<style scoped>\n    .dataframe tbody tr th:only-of-type {\n        vertical-align: middle;\n    }\n\n    .dataframe tbody tr th {\n        vertical-align: top;\n    }\n\n    .dataframe thead th {\n        text-align: right;\n    }\n</style>\n<table border=\"1\" class=\"dataframe\">\n  <thead>\n    <tr style=\"text-align: right;\">\n      <th></th>\n      <th>municipioCaso</th>\n      <th>sexoCaso</th>\n      <th>dataNascimento</th>\n      <th>resultadoFinalExame</th>\n      <th>comorbidadeCardiovascularSivep</th>\n      <th>comorbidadeDiabetesSivep</th>\n      <th>racaCor</th>\n    </tr>\n  </thead>\n  <tbody>\n    <tr>\n      <th>19</th>\n      <td>SOBRAL</td>\n      <td>MASCULINO</td>\n      <td>*</td>\n      <td>Negativo</td>\n      <td>*</td>\n      <td>*</td>\n      <td>Parda</td>\n    </tr>\n    <tr>\n      <th>20</th>\n      <td>PACAJUS</td>\n      <td>MASCULINO</td>\n      <td>1983-11-07 00:00:00</td>\n      <td>Negativo</td>\n      <td>*</td>\n      <td>*</td>\n      <td>Parda</td>\n    </tr>\n    <tr>\n      <th>21</th>\n      <td>HORIZONTE</td>\n      <td>FEMININO</td>\n      <td>*</td>\n      <td>Negativo</td>\n      <td>*</td>\n      <td>*</td>\n      <td>*</td>\n    </tr>\n    <tr>\n      <th>25</th>\n      <td>FORTALEZA</td>\n      <td>MASCULINO</td>\n      <td>1992-03-12 00:00:00</td>\n      <td>Negativo</td>\n      <td>*</td>\n      <td>*</td>\n      <td>Parda</td>\n    </tr>\n    <tr>\n      <th>28</th>\n      <td>CAUCAIA</td>\n      <td>MASCULINO</td>\n      <td>*</td>\n      <td>Negativo</td>\n      <td>*</td>\n      <td>*</td>\n      <td>Sem Informacao</td>\n    </tr>\n    <tr>\n      <th>...</th>\n      <td>...</td>\n      <td>...</td>\n      <td>...</td>\n      <td>...</td>\n      <td>...</td>\n      <td>...</td>\n      <td>...</td>\n    </tr>\n    <tr>\n      <th>1266272</th>\n      <td>FORTALEZA</td>\n      <td>FEMININO</td>\n      <td>*</td>\n      <td>Positivo</td>\n      <td>*</td>\n      <td>*</td>\n      <td>Branca</td>\n    </tr>\n    <tr>\n      <th>1266273</th>\n      <td>FORTALEZA</td>\n      <td>FEMININO</td>\n      <td>1980-12-02 00:00:00</td>\n      <td>Negativo</td>\n      <td>*</td>\n      <td>*</td>\n      <td>Parda</td>\n    </tr>\n    <tr>\n      <th>1266274</th>\n      <td>FORTALEZA</td>\n      <td>FEMININO</td>\n      <td>*</td>\n      <td>Provável</td>\n      <td>*</td>\n      <td>*</td>\n      <td>Branca</td>\n    </tr>\n    <tr>\n      <th>1266275</th>\n      <td>CRATEUS</td>\n      <td>FEMININO</td>\n      <td>1970-09-28 00:00:00</td>\n      <td>Negativo</td>\n      <td>*</td>\n      <td>*</td>\n      <td>Parda</td>\n    </tr>\n    <tr>\n      <th>1266276</th>\n      <td>JUAZEIRO DO NORTE</td>\n      <td>FEMININO</td>\n      <td>*</td>\n      <td>Positivo</td>\n      <td>*</td>\n      <td>*</td>\n      <td>*</td>\n    </tr>\n  </tbody>\n</table>\n<p>911921 rows × 7 columns</p>\n</div>"
     },
     "metadata": {},
     "execution_count": 26
    }
   ],
   "source": [
    "%%time\n",
    "# 2. gerar tabela k = 2\n",
    "\n",
    "# remove os grupos k >= 2 já formados da tabela\n",
    "qt_5 = df[df.duplicated(subset=semi_id, keep=False)]\n",
    "df2 = df.drop_duplicates(subset=semi_id, keep=False)\n",
    "\n",
    "df_splices = [qt_5]\n",
    "\n",
    "for n in [4, 3, 2, 1]:\n",
    "    semi_id_combinations = it.combinations(semi_id, n)\n",
    "    best_semi_id_combo = []\n",
    "    duplicate_rows = []\n",
    "\n",
    "    # para cada combinação de semi identificadores, checa quantos grupos k >= 2 formaria e pega a que gera mais\n",
    "    for s in semi_id_combinations:\n",
    "        rows = df2[df2.duplicated(subset=s, keep=False)]\n",
    "        if len(duplicate_rows) < len(rows):\n",
    "            duplicate_rows = rows.copy()\n",
    "            best_semi_id_combo = s\n",
    "\n",
    "    # pega o(s) atributo(s) que não aparece(m) na combinação e aplica supressão\n",
    "    rm = list(set(semi_id) - set(best_semi_id_combo))\n",
    "    for col in rm:\n",
    "        duplicate_rows[col] = \"*\"\n",
    "\n",
    "    # remove grupos recém formados da tabela original\n",
    "    df_splices.append(duplicate_rows)\n",
    "    df2 = df2.drop_duplicates(subset=best_semi_id_combo, keep=False)\n",
    "\n",
    "df2.dataNascimento = \"*\"\n",
    "df2.racaCor = \"*\"\n",
    "df_splices.append(df2)\n",
    "\n",
    "df2 = pd.concat(df_splices).sort_index()\n",
    "df2"
   ]
  },
  {
   "cell_type": "code",
   "execution_count": 27,
   "metadata": {},
   "outputs": [
    {
     "output_type": "execute_result",
     "data": {
      "text/plain": [
       "True"
      ]
     },
     "metadata": {},
     "execution_count": 27
    }
   ],
   "source": [
    "is_k_anon(df2, semi_id, k=2)\n",
    "# generate_csv(df2, k=2)"
   ]
  },
  {
   "cell_type": "code",
   "execution_count": 31,
   "metadata": {
    "tags": []
   },
   "outputs": [
    {
     "output_type": "stream",
     "name": "stdout",
     "text": [
      "Wall time: 20.5 s\n"
     ]
    },
    {
     "output_type": "execute_result",
     "data": {
      "text/plain": [
       "             municipioCaso   sexoCaso       dataNascimento  \\\n",
       "19                  SOBRAL  MASCULINO                    *   \n",
       "20                 PACAJUS  MASCULINO                    *   \n",
       "21               HORIZONTE   FEMININO                    *   \n",
       "25               FORTALEZA  MASCULINO  1992-03-12 00:00:00   \n",
       "28                 CAUCAIA  MASCULINO                    *   \n",
       "...                    ...        ...                  ...   \n",
       "1266272          FORTALEZA   FEMININO                    *   \n",
       "1266273          FORTALEZA   FEMININO  1980-12-02 00:00:00   \n",
       "1266274          FORTALEZA   FEMININO                    *   \n",
       "1266275            CRATEUS   FEMININO  1970-09-28 00:00:00   \n",
       "1266276  JUAZEIRO DO NORTE   FEMININO                    *   \n",
       "\n",
       "        resultadoFinalExame comorbidadeCardiovascularSivep  \\\n",
       "19                 Negativo                              *   \n",
       "20                 Negativo                              *   \n",
       "21                 Negativo                              *   \n",
       "25                 Negativo                              *   \n",
       "28                 Negativo                              *   \n",
       "...                     ...                            ...   \n",
       "1266272            Positivo                              *   \n",
       "1266273                   *                              *   \n",
       "1266274            Provável                              *   \n",
       "1266275            Negativo                              *   \n",
       "1266276            Positivo                              *   \n",
       "\n",
       "        comorbidadeDiabetesSivep         racaCor  \n",
       "19                             *           Parda  \n",
       "20                             *           Parda  \n",
       "21                             *               *  \n",
       "25                             *               *  \n",
       "28                             *  Sem Informacao  \n",
       "...                          ...             ...  \n",
       "1266272                        *          Branca  \n",
       "1266273                        *           Parda  \n",
       "1266274                        *          Branca  \n",
       "1266275                        *           Parda  \n",
       "1266276                        *               *  \n",
       "\n",
       "[911921 rows x 7 columns]"
      ],
      "text/html": "<div>\n<style scoped>\n    .dataframe tbody tr th:only-of-type {\n        vertical-align: middle;\n    }\n\n    .dataframe tbody tr th {\n        vertical-align: top;\n    }\n\n    .dataframe thead th {\n        text-align: right;\n    }\n</style>\n<table border=\"1\" class=\"dataframe\">\n  <thead>\n    <tr style=\"text-align: right;\">\n      <th></th>\n      <th>municipioCaso</th>\n      <th>sexoCaso</th>\n      <th>dataNascimento</th>\n      <th>resultadoFinalExame</th>\n      <th>comorbidadeCardiovascularSivep</th>\n      <th>comorbidadeDiabetesSivep</th>\n      <th>racaCor</th>\n    </tr>\n  </thead>\n  <tbody>\n    <tr>\n      <th>19</th>\n      <td>SOBRAL</td>\n      <td>MASCULINO</td>\n      <td>*</td>\n      <td>Negativo</td>\n      <td>*</td>\n      <td>*</td>\n      <td>Parda</td>\n    </tr>\n    <tr>\n      <th>20</th>\n      <td>PACAJUS</td>\n      <td>MASCULINO</td>\n      <td>*</td>\n      <td>Negativo</td>\n      <td>*</td>\n      <td>*</td>\n      <td>Parda</td>\n    </tr>\n    <tr>\n      <th>21</th>\n      <td>HORIZONTE</td>\n      <td>FEMININO</td>\n      <td>*</td>\n      <td>Negativo</td>\n      <td>*</td>\n      <td>*</td>\n      <td>*</td>\n    </tr>\n    <tr>\n      <th>25</th>\n      <td>FORTALEZA</td>\n      <td>MASCULINO</td>\n      <td>1992-03-12 00:00:00</td>\n      <td>Negativo</td>\n      <td>*</td>\n      <td>*</td>\n      <td>*</td>\n    </tr>\n    <tr>\n      <th>28</th>\n      <td>CAUCAIA</td>\n      <td>MASCULINO</td>\n      <td>*</td>\n      <td>Negativo</td>\n      <td>*</td>\n      <td>*</td>\n      <td>Sem Informacao</td>\n    </tr>\n    <tr>\n      <th>...</th>\n      <td>...</td>\n      <td>...</td>\n      <td>...</td>\n      <td>...</td>\n      <td>...</td>\n      <td>...</td>\n      <td>...</td>\n    </tr>\n    <tr>\n      <th>1266272</th>\n      <td>FORTALEZA</td>\n      <td>FEMININO</td>\n      <td>*</td>\n      <td>Positivo</td>\n      <td>*</td>\n      <td>*</td>\n      <td>Branca</td>\n    </tr>\n    <tr>\n      <th>1266273</th>\n      <td>FORTALEZA</td>\n      <td>FEMININO</td>\n      <td>1980-12-02 00:00:00</td>\n      <td>*</td>\n      <td>*</td>\n      <td>*</td>\n      <td>Parda</td>\n    </tr>\n    <tr>\n      <th>1266274</th>\n      <td>FORTALEZA</td>\n      <td>FEMININO</td>\n      <td>*</td>\n      <td>Provável</td>\n      <td>*</td>\n      <td>*</td>\n      <td>Branca</td>\n    </tr>\n    <tr>\n      <th>1266275</th>\n      <td>CRATEUS</td>\n      <td>FEMININO</td>\n      <td>1970-09-28 00:00:00</td>\n      <td>Negativo</td>\n      <td>*</td>\n      <td>*</td>\n      <td>Parda</td>\n    </tr>\n    <tr>\n      <th>1266276</th>\n      <td>JUAZEIRO DO NORTE</td>\n      <td>FEMININO</td>\n      <td>*</td>\n      <td>Positivo</td>\n      <td>*</td>\n      <td>*</td>\n      <td>*</td>\n    </tr>\n  </tbody>\n</table>\n<p>911921 rows × 7 columns</p>\n</div>"
     },
     "metadata": {},
     "execution_count": 31
    }
   ],
   "source": [
    "%%time\n",
    "# 3. gerar tabela k = 4\n",
    "\n",
    "k = 4\n",
    "# df4 = supress_unique_k_values(df2, semi_id, k)\n",
    "df4 = df2\n",
    "\n",
    "need_supression = []\n",
    "for name, group in df4.groupby(semi_id):\n",
    "    if group.shape[0] < k:\n",
    "        need_supression.append(group)\n",
    "\n",
    "need_supression = pd.concat(need_supression).sort_index()\n",
    "df4 = df4.drop(need_supression.index)\n",
    "\n",
    "suppressed = [df4]\n",
    "\n",
    "for n in [4, 3, 2, 1]:\n",
    "    semi_id_combinations = it.combinations(semi_id, n)\n",
    "    trows = []\n",
    "\n",
    "    for s in semi_id_combinations:\n",
    "        groups = need_supression.groupby(list(s))\n",
    "        rows = []\n",
    "\n",
    "        for name, group in groups:\n",
    "            if group.shape[0] >= k:\n",
    "                rm = list(set(semi_id) - set(s))\n",
    "                for col in rm:\n",
    "                    group[col] = \"*\"\n",
    "                rows.append(group)\n",
    "\n",
    "        if rows:\n",
    "            rows = pd.concat(rows).sort_index()\n",
    "            trows.append(rows)\n",
    "            need_supression = need_supression.drop(rows.index)\n",
    "\n",
    "    if trows:\n",
    "        trows = pd.concat(trows).sort_index()\n",
    "        suppressed.append(trows)\n",
    "\n",
    "need_supression.dataNascimento = \"*\"\n",
    "need_supression.racaCor = \"*\"\n",
    "suppressed.append(need_supression)\n",
    "\n",
    "df4 = pd.concat(suppressed).sort_index()\n",
    "df4"
   ]
  },
  {
   "cell_type": "code",
   "execution_count": 33,
   "metadata": {},
   "outputs": [],
   "source": [
    "is_k_anon(df4, semi_id, k=4)\n",
    "# generate_csv(df4, k=4)"
   ]
  },
  {
   "cell_type": "code",
   "execution_count": 35,
   "metadata": {},
   "outputs": [
    {
     "output_type": "stream",
     "name": "stdout",
     "text": [
      "Wall time: 5.23 s\n"
     ]
    },
    {
     "output_type": "execute_result",
     "data": {
      "text/plain": [
       "             municipioCaso   sexoCaso       dataNascimento  \\\n",
       "19                  SOBRAL  MASCULINO                    *   \n",
       "20                 PACAJUS  MASCULINO                    *   \n",
       "21               HORIZONTE   FEMININO                    *   \n",
       "25               FORTALEZA  MASCULINO  1992-03-12 00:00:00   \n",
       "28                 CAUCAIA  MASCULINO                    *   \n",
       "...                    ...        ...                  ...   \n",
       "1266272          FORTALEZA   FEMININO                    *   \n",
       "1266273          FORTALEZA   FEMININO                    *   \n",
       "1266274          FORTALEZA   FEMININO                    *   \n",
       "1266275            CRATEUS   FEMININO                    *   \n",
       "1266276  JUAZEIRO DO NORTE   FEMININO                    *   \n",
       "\n",
       "        resultadoFinalExame comorbidadeCardiovascularSivep  \\\n",
       "19                 Negativo                              *   \n",
       "20                 Negativo                              *   \n",
       "21                 Negativo                              *   \n",
       "25                 Negativo                              *   \n",
       "28                 Negativo                              *   \n",
       "...                     ...                            ...   \n",
       "1266272            Positivo                              *   \n",
       "1266273                   *                              *   \n",
       "1266274            Provável                              *   \n",
       "1266275            Negativo                              *   \n",
       "1266276            Positivo                              *   \n",
       "\n",
       "        comorbidadeDiabetesSivep         racaCor  \n",
       "19                             *           Parda  \n",
       "20                             *           Parda  \n",
       "21                             *               *  \n",
       "25                             *               *  \n",
       "28                             *  Sem Informacao  \n",
       "...                          ...             ...  \n",
       "1266272                        *          Branca  \n",
       "1266273                        *           Parda  \n",
       "1266274                        *          Branca  \n",
       "1266275                        *           Parda  \n",
       "1266276                        *               *  \n",
       "\n",
       "[911921 rows x 7 columns]"
      ],
      "text/html": "<div>\n<style scoped>\n    .dataframe tbody tr th:only-of-type {\n        vertical-align: middle;\n    }\n\n    .dataframe tbody tr th {\n        vertical-align: top;\n    }\n\n    .dataframe thead th {\n        text-align: right;\n    }\n</style>\n<table border=\"1\" class=\"dataframe\">\n  <thead>\n    <tr style=\"text-align: right;\">\n      <th></th>\n      <th>municipioCaso</th>\n      <th>sexoCaso</th>\n      <th>dataNascimento</th>\n      <th>resultadoFinalExame</th>\n      <th>comorbidadeCardiovascularSivep</th>\n      <th>comorbidadeDiabetesSivep</th>\n      <th>racaCor</th>\n    </tr>\n  </thead>\n  <tbody>\n    <tr>\n      <th>19</th>\n      <td>SOBRAL</td>\n      <td>MASCULINO</td>\n      <td>*</td>\n      <td>Negativo</td>\n      <td>*</td>\n      <td>*</td>\n      <td>Parda</td>\n    </tr>\n    <tr>\n      <th>20</th>\n      <td>PACAJUS</td>\n      <td>MASCULINO</td>\n      <td>*</td>\n      <td>Negativo</td>\n      <td>*</td>\n      <td>*</td>\n      <td>Parda</td>\n    </tr>\n    <tr>\n      <th>21</th>\n      <td>HORIZONTE</td>\n      <td>FEMININO</td>\n      <td>*</td>\n      <td>Negativo</td>\n      <td>*</td>\n      <td>*</td>\n      <td>*</td>\n    </tr>\n    <tr>\n      <th>25</th>\n      <td>FORTALEZA</td>\n      <td>MASCULINO</td>\n      <td>1992-03-12 00:00:00</td>\n      <td>Negativo</td>\n      <td>*</td>\n      <td>*</td>\n      <td>*</td>\n    </tr>\n    <tr>\n      <th>28</th>\n      <td>CAUCAIA</td>\n      <td>MASCULINO</td>\n      <td>*</td>\n      <td>Negativo</td>\n      <td>*</td>\n      <td>*</td>\n      <td>Sem Informacao</td>\n    </tr>\n    <tr>\n      <th>...</th>\n      <td>...</td>\n      <td>...</td>\n      <td>...</td>\n      <td>...</td>\n      <td>...</td>\n      <td>...</td>\n      <td>...</td>\n    </tr>\n    <tr>\n      <th>1266272</th>\n      <td>FORTALEZA</td>\n      <td>FEMININO</td>\n      <td>*</td>\n      <td>Positivo</td>\n      <td>*</td>\n      <td>*</td>\n      <td>Branca</td>\n    </tr>\n    <tr>\n      <th>1266273</th>\n      <td>FORTALEZA</td>\n      <td>FEMININO</td>\n      <td>*</td>\n      <td>*</td>\n      <td>*</td>\n      <td>*</td>\n      <td>Parda</td>\n    </tr>\n    <tr>\n      <th>1266274</th>\n      <td>FORTALEZA</td>\n      <td>FEMININO</td>\n      <td>*</td>\n      <td>Provável</td>\n      <td>*</td>\n      <td>*</td>\n      <td>Branca</td>\n    </tr>\n    <tr>\n      <th>1266275</th>\n      <td>CRATEUS</td>\n      <td>FEMININO</td>\n      <td>*</td>\n      <td>Negativo</td>\n      <td>*</td>\n      <td>*</td>\n      <td>Parda</td>\n    </tr>\n    <tr>\n      <th>1266276</th>\n      <td>JUAZEIRO DO NORTE</td>\n      <td>FEMININO</td>\n      <td>*</td>\n      <td>Positivo</td>\n      <td>*</td>\n      <td>*</td>\n      <td>*</td>\n    </tr>\n  </tbody>\n</table>\n<p>911921 rows × 7 columns</p>\n</div>"
     },
     "metadata": {},
     "execution_count": 35
    }
   ],
   "source": [
    "%%time\n",
    "# 3. gerar tabela k = 8\n",
    "\n",
    "k = 8\n",
    "df8 = df4\n",
    "\n",
    "need_supression = []\n",
    "for name, group in df8.groupby(semi_id):\n",
    "    if group.shape[0] < k:\n",
    "        need_supression.append(group)\n",
    "\n",
    "need_supression = pd.concat(need_supression).sort_index()\n",
    "df8 = df8.drop(need_supression.index)\n",
    "\n",
    "suppressed = [df8]\n",
    "\n",
    "for n in [4, 3, 2, 1]:\n",
    "    semi_id_combinations = it.combinations(semi_id, n)\n",
    "    trows = []\n",
    "\n",
    "    for s in semi_id_combinations:\n",
    "        groups = need_supression.groupby(list(s))\n",
    "        rows = []\n",
    "\n",
    "        for name, group in groups:\n",
    "            if group.shape[0] >= k:\n",
    "                rm = list(set(semi_id) - set(s))\n",
    "                for col in rm:\n",
    "                    group[col] = \"*\"\n",
    "                rows.append(group)\n",
    "\n",
    "        if rows:\n",
    "            rows = pd.concat(rows).sort_index()\n",
    "            trows.append(rows)\n",
    "            need_supression = need_supression.drop(rows.index)\n",
    "\n",
    "    if trows:\n",
    "        trows = pd.concat(trows).sort_index()\n",
    "        suppressed.append(trows)\n",
    "\n",
    "need_supression.dataNascimento = \"*\"\n",
    "need_supression.racaCor = \"*\"\n",
    "suppressed.append(need_supression)\n",
    "\n",
    "df8 = pd.concat(suppressed).sort_index()\n",
    "df8"
   ]
  },
  {
   "cell_type": "code",
   "execution_count": 37,
   "metadata": {},
   "outputs": [],
   "source": [
    "is_k_anon(df8, semi_id, k=8)\n",
    "# generate_csv(df8, k=8)"
   ]
  },
  {
   "cell_type": "code",
   "execution_count": 38,
   "metadata": {},
   "outputs": [
    {
     "output_type": "stream",
     "name": "stdout",
     "text": [
      "Wall time: 2.58 s\n"
     ]
    },
    {
     "output_type": "execute_result",
     "data": {
      "text/plain": [
       "             municipioCaso   sexoCaso dataNascimento resultadoFinalExame  \\\n",
       "19                  SOBRAL  MASCULINO              *            Negativo   \n",
       "20                 PACAJUS  MASCULINO              *            Negativo   \n",
       "21               HORIZONTE   FEMININO              *            Negativo   \n",
       "25               FORTALEZA  MASCULINO              *            Negativo   \n",
       "28                 CAUCAIA  MASCULINO              *            Negativo   \n",
       "...                    ...        ...            ...                 ...   \n",
       "1266272          FORTALEZA   FEMININO              *            Positivo   \n",
       "1266273          FORTALEZA   FEMININO              *                   *   \n",
       "1266274          FORTALEZA   FEMININO              *            Provável   \n",
       "1266275            CRATEUS   FEMININO              *            Negativo   \n",
       "1266276  JUAZEIRO DO NORTE   FEMININO              *            Positivo   \n",
       "\n",
       "        comorbidadeCardiovascularSivep comorbidadeDiabetesSivep  \\\n",
       "19                                   *                        *   \n",
       "20                                   *                        *   \n",
       "21                                   *                        *   \n",
       "25                                   *                        *   \n",
       "28                                   *                        *   \n",
       "...                                ...                      ...   \n",
       "1266272                              *                        *   \n",
       "1266273                              *                        *   \n",
       "1266274                              *                        *   \n",
       "1266275                              *                        *   \n",
       "1266276                              *                        *   \n",
       "\n",
       "                racaCor  \n",
       "19                Parda  \n",
       "20                Parda  \n",
       "21                    *  \n",
       "25                    *  \n",
       "28       Sem Informacao  \n",
       "...                 ...  \n",
       "1266272          Branca  \n",
       "1266273           Parda  \n",
       "1266274          Branca  \n",
       "1266275           Parda  \n",
       "1266276               *  \n",
       "\n",
       "[911921 rows x 7 columns]"
      ],
      "text/html": "<div>\n<style scoped>\n    .dataframe tbody tr th:only-of-type {\n        vertical-align: middle;\n    }\n\n    .dataframe tbody tr th {\n        vertical-align: top;\n    }\n\n    .dataframe thead th {\n        text-align: right;\n    }\n</style>\n<table border=\"1\" class=\"dataframe\">\n  <thead>\n    <tr style=\"text-align: right;\">\n      <th></th>\n      <th>municipioCaso</th>\n      <th>sexoCaso</th>\n      <th>dataNascimento</th>\n      <th>resultadoFinalExame</th>\n      <th>comorbidadeCardiovascularSivep</th>\n      <th>comorbidadeDiabetesSivep</th>\n      <th>racaCor</th>\n    </tr>\n  </thead>\n  <tbody>\n    <tr>\n      <th>19</th>\n      <td>SOBRAL</td>\n      <td>MASCULINO</td>\n      <td>*</td>\n      <td>Negativo</td>\n      <td>*</td>\n      <td>*</td>\n      <td>Parda</td>\n    </tr>\n    <tr>\n      <th>20</th>\n      <td>PACAJUS</td>\n      <td>MASCULINO</td>\n      <td>*</td>\n      <td>Negativo</td>\n      <td>*</td>\n      <td>*</td>\n      <td>Parda</td>\n    </tr>\n    <tr>\n      <th>21</th>\n      <td>HORIZONTE</td>\n      <td>FEMININO</td>\n      <td>*</td>\n      <td>Negativo</td>\n      <td>*</td>\n      <td>*</td>\n      <td>*</td>\n    </tr>\n    <tr>\n      <th>25</th>\n      <td>FORTALEZA</td>\n      <td>MASCULINO</td>\n      <td>*</td>\n      <td>Negativo</td>\n      <td>*</td>\n      <td>*</td>\n      <td>*</td>\n    </tr>\n    <tr>\n      <th>28</th>\n      <td>CAUCAIA</td>\n      <td>MASCULINO</td>\n      <td>*</td>\n      <td>Negativo</td>\n      <td>*</td>\n      <td>*</td>\n      <td>Sem Informacao</td>\n    </tr>\n    <tr>\n      <th>...</th>\n      <td>...</td>\n      <td>...</td>\n      <td>...</td>\n      <td>...</td>\n      <td>...</td>\n      <td>...</td>\n      <td>...</td>\n    </tr>\n    <tr>\n      <th>1266272</th>\n      <td>FORTALEZA</td>\n      <td>FEMININO</td>\n      <td>*</td>\n      <td>Positivo</td>\n      <td>*</td>\n      <td>*</td>\n      <td>Branca</td>\n    </tr>\n    <tr>\n      <th>1266273</th>\n      <td>FORTALEZA</td>\n      <td>FEMININO</td>\n      <td>*</td>\n      <td>*</td>\n      <td>*</td>\n      <td>*</td>\n      <td>Parda</td>\n    </tr>\n    <tr>\n      <th>1266274</th>\n      <td>FORTALEZA</td>\n      <td>FEMININO</td>\n      <td>*</td>\n      <td>Provável</td>\n      <td>*</td>\n      <td>*</td>\n      <td>Branca</td>\n    </tr>\n    <tr>\n      <th>1266275</th>\n      <td>CRATEUS</td>\n      <td>FEMININO</td>\n      <td>*</td>\n      <td>Negativo</td>\n      <td>*</td>\n      <td>*</td>\n      <td>Parda</td>\n    </tr>\n    <tr>\n      <th>1266276</th>\n      <td>JUAZEIRO DO NORTE</td>\n      <td>FEMININO</td>\n      <td>*</td>\n      <td>Positivo</td>\n      <td>*</td>\n      <td>*</td>\n      <td>*</td>\n    </tr>\n  </tbody>\n</table>\n<p>911921 rows × 7 columns</p>\n</div>"
     },
     "metadata": {},
     "execution_count": 38
    }
   ],
   "source": [
    "%%time\n",
    "# 3. gerar tabela k = 16\n",
    "\n",
    "k = 16\n",
    "df16 = df8\n",
    "\n",
    "need_supression = []\n",
    "for name, group in df16.groupby(semi_id):\n",
    "    if group.shape[0] < k:\n",
    "        need_supression.append(group)\n",
    "\n",
    "need_supression = pd.concat(need_supression).sort_index()\n",
    "df16 = df16.drop(need_supression.index)\n",
    "\n",
    "suppressed = [df16]\n",
    "\n",
    "for n in [4, 3, 2, 1]:\n",
    "    semi_id_combinations = it.combinations(semi_id, n)\n",
    "    trows = []\n",
    "\n",
    "    for s in semi_id_combinations:\n",
    "        groups = need_supression.groupby(list(s))\n",
    "        rows = []\n",
    "\n",
    "        for name, group in groups:\n",
    "            if group.shape[0] >= k:\n",
    "                rm = list(set(semi_id) - set(s))\n",
    "                for col in rm:\n",
    "                    group[col] = \"*\"\n",
    "                rows.append(group)\n",
    "\n",
    "        if rows:\n",
    "            rows = pd.concat(rows).sort_index()\n",
    "            trows.append(rows)\n",
    "            need_supression = need_supression.drop(rows.index)\n",
    "\n",
    "    if trows:\n",
    "        trows = pd.concat(trows).sort_index()\n",
    "        suppressed.append(trows)\n",
    "\n",
    "need_supression.dataNascimento = \"*\"\n",
    "need_supression.racaCor = \"*\"\n",
    "suppressed.append(need_supression)\n",
    "\n",
    "df16 = pd.concat(suppressed).sort_index()\n",
    "df16"
   ]
  },
  {
   "cell_type": "code",
   "execution_count": 41,
   "metadata": {},
   "outputs": [
    {
     "output_type": "execute_result",
     "data": {
      "text/plain": [
       "True"
      ]
     },
     "metadata": {},
     "execution_count": 41
    }
   ],
   "source": [
    "is_k_anon(df16, semi_id, k=16)\n",
    "# generate_csv(df16, k=16)"
   ]
  },
  {
   "cell_type": "code",
   "execution_count": null,
   "metadata": {},
   "outputs": [],
   "source": []
  }
 ],
 "metadata": {
  "kernelspec": {
   "name": "python3",
   "display_name": "Python 3.8.8 64-bit ('base': conda)"
  },
  "language_info": {
   "codemirror_mode": {
    "name": "ipython",
    "version": 3
   },
   "file_extension": ".py",
   "mimetype": "text/x-python",
   "name": "python",
   "nbconvert_exporter": "python",
   "pygments_lexer": "ipython3",
   "version": "3.8.8"
  },
  "interpreter": {
   "hash": "010b54f1825be09c18f412b79948692e03fb8efcbd4915706a1d6aa8fb5f9e13"
  }
 },
 "nbformat": 4,
 "nbformat_minor": 5
}